{
 "cells": [
  {
   "cell_type": "code",
   "execution_count": 2,
   "metadata": {},
   "outputs": [
    {
     "name": "stdout",
     "output_type": "stream",
     "text": [
      "2020-10-20\n",
      "20 10 2020\n",
      "2020-10-20 05:09:12.436838\n"
     ]
    }
   ],
   "source": [
    "from datetime import date,time,datetime\n",
    "\n",
    "today=date.today()\n",
    "print(today)\n",
    "\n",
    "print(today.day, today.month, today.year)\n",
    "\n",
    "# print(today.weekday)\n",
    "\n",
    "print(datetime.now())"
   ]
  },
  {
   "cell_type": "markdown",
   "metadata": {},
   "source": [
    "Formatting time output"
   ]
  },
  {
   "cell_type": "code",
   "execution_count": 6,
   "metadata": {},
   "outputs": [
    {
     "name": "stdout",
     "output_type": "stream",
     "text": [
      "Tue, 20, October 2020\n",
      "Locale date and time: Tue Oct 20 05:16:12 2020\n",
      "Locale date: 10/20/20\n",
      "Locale time: 05:16:12\n",
      "Current time: 05:16:12 AM\n",
      "24hr time: 05:16\n"
     ]
    }
   ],
   "source": [
    "now=datetime.now()\n",
    "\n",
    "# Year %y/%Y weekday %a/%A month %b/%B and day of month %d\n",
    "print(now.strftime(\"%a, %d, %B %Y\"))\n",
    "\n",
    "# locale date and time\n",
    "print(now.strftime(\"Locale date and time: %c\"))\n",
    "print(now.strftime(\"Locale date: %x\"))\n",
    "print(now.strftime(\"Locale time: %X\"))\n",
    "\n",
    "# Time formating\n",
    "print(now.strftime(\"Current time: %I:%M:%S %p\")) #12hr, minute, sec, AM/PM\n",
    "print(now.strftime(\"24hr time: %H:%M\")) #24hr, minute"
   ]
  },
  {
   "cell_type": "markdown",
   "metadata": {},
   "source": [
    "Using timedelta objects"
   ]
  },
  {
   "cell_type": "code",
   "execution_count": 14,
   "metadata": {},
   "outputs": [
    {
     "name": "stdout",
     "output_type": "stream",
     "text": [
      "365 days, 5:01:00\n",
      "today is : 2020-10-20 05:37:29.064935\n",
      "one year from now it will be : 2021-10-20 05:37:29.064935\n",
      "In 2 days and 3 weeks it will be : 2020-11-12 05:37:29.064935\n",
      "One weeks ago it was:Tuesday October 13, 2020\n",
      "April Fools Day already went by 202 days ago\n",
      "It's just  163 days until April Fools Day\n"
     ]
    }
   ],
   "source": [
    "from datetime import timedelta\n",
    "\n",
    "#construct a basic timedelta and print it\n",
    "print(timedelta(days=365, hours=5, minutes=1))\n",
    "\n",
    "#print today's date\n",
    "now= datetime.now()\n",
    "print(\"today is : \"+str(now))\n",
    "\n",
    "#print today's date one year from now\n",
    "print(\"one year from now it will be : \"+str(now+timedelta(days=365)))\n",
    "\n",
    "# create a timedelta that uses more than one argument\n",
    "print(\"In 2 days and 3 weeks it will be : \"+ str(now+timedelta(days=2, weeks=3)))\n",
    "\n",
    "\n",
    "\n",
    "\n",
    "#calculate the date 1 week ago, formatted as a string\n",
    "t= datetime.now() - timedelta(weeks=1)\n",
    "s= t.strftime(\"%A %B %d, %Y\")\n",
    "print(\"One weeks ago it was:\" +s)\n",
    "\n",
    "\n",
    "#How many days until April Fools Day?\n",
    "today = date.today()\n",
    "afd = date(today.year, 4, 1)\n",
    "\n",
    "if afd<today:\n",
    "    print(\"April Fools Day already went by %d days ago\" %((today-afd).days))\n",
    "    afd = afd.replace(year=today.year+1)\n",
    "    \n",
    "time_to_afd = afd-today\n",
    "print(\"It's just \", time_to_afd.days, \"days until April Fools Day\")"
   ]
  },
  {
   "cell_type": "markdown",
   "metadata": {},
   "source": [
    "Working with calendars"
   ]
  },
  {
   "cell_type": "code",
   "execution_count": 23,
   "metadata": {},
   "outputs": [
    {
     "name": "stdout",
     "output_type": "stream",
     "text": [
      "    January 2020\n",
      "Mo Tu We Th Fr Sa Su\n",
      "       1  2  3  4  5\n",
      " 6  7  8  9 10 11 12\n",
      "13 14 15 16 17 18 19\n",
      "20 21 22 23 24 25 26\n",
      "27 28 29 30 31\n",
      "\n",
      "0\n",
      "1\n",
      "2\n",
      "3\n",
      "4\n",
      "5\n",
      "6\n",
      "7\n",
      "8\n",
      "9\n",
      "10\n",
      "11\n",
      "12\n",
      "13\n",
      "14\n",
      "15\n",
      "16\n",
      "17\n",
      "18\n",
      "19\n",
      "20\n",
      "21\n",
      "22\n",
      "23\n",
      "24\n",
      "25\n",
      "26\n",
      "27\n",
      "28\n",
      "29\n",
      "30\n",
      "31\n",
      "0\n",
      "0\n",
      "0\n",
      "Team meeting will be on: \n",
      "   January  1\n",
      "  February  5\n",
      "     March  4\n",
      "     April  1\n",
      "       May  0\n",
      "      June  3\n",
      "      July  1\n",
      "    August  5\n",
      " September  2\n",
      "   October  0\n",
      "  November  4\n",
      "  December  2\n"
     ]
    }
   ],
   "source": [
    "import calendar\n",
    "\n",
    "#create a plain text calendar\n",
    "c=calendar.TextCalendar(calendar.MONDAY)\n",
    "st=c.formatmonth(2020,1,0,0)\n",
    "print(st)\n",
    "\n",
    "\n",
    "#create an HTML formatted calendar\n",
    "# hc = calendar.TextCalendar(calendar.MONDAY)\n",
    "# st=hc.formatmonth(2020,1,0,0)\n",
    "# print(st)\n",
    "\n",
    "#loop over the days of a month, zeroes mean that the dat of the week is in an overlapping month\n",
    "for i in c.itermonthdays(2017, 8):\n",
    "    print(i)\n",
    "    \n",
    "#Calculate days based on a rule\n",
    "print(\"Team meeting will be on: \")\n",
    "for m in range(1,13):\n",
    "    cal = calendar.monthcalendar(2020,m)\n",
    "    weekone=cal[0]\n",
    "    weektwo=cal[1]\n",
    "    \n",
    "    if weekone[calendar.FRIDAY] !=0:\n",
    "        meetday = weekone[calendar.WEDNESDAY]\n",
    "    else:\n",
    "        meetday = weektwo[calendar.WEDNESDAY]\n",
    "        \n",
    "    print(\"%10s %2d\" %(calendar.month_name[m], meetday))"
   ]
  },
  {
   "cell_type": "code",
   "execution_count": null,
   "metadata": {},
   "outputs": [],
   "source": []
  }
 ],
 "metadata": {
  "kernelspec": {
   "display_name": "Python 3",
   "language": "python",
   "name": "python3"
  },
  "language_info": {
   "codemirror_mode": {
    "name": "ipython",
    "version": 3
   },
   "file_extension": ".py",
   "mimetype": "text/x-python",
   "name": "python",
   "nbconvert_exporter": "python",
   "pygments_lexer": "ipython3",
   "version": "3.7.6"
  }
 },
 "nbformat": 4,
 "nbformat_minor": 4
}
