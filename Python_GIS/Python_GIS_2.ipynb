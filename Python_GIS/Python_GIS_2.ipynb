{
 "cells": [
  {
   "cell_type": "markdown",
   "metadata": {},
   "source": [
    "## Definitions\n",
    "\n",
    "- Shapefile: a vector data format for storing location information and related attributes. A shapefile consist of several files with a common prefix that need to be stored in the same directory. .shp, shx and .dbf are required file extensions in a shapefile. Other file extensions are not required, but for example the file extension .prj is often essential. More information about Shapefile file extensions in here. The shapefile format is developed by ESRI.\n",
    "\n",
    "- GeoPackage: an open source format for storing and transferring geospatial information. GeoPackages are able to store both vector data and raster data. In more detail, GeoPackage is a container for an SQLite database with a .gpkg extension (all in one file!). The GeoPackage format is governed by the Open GeoSpatial Consortium. More information at: https://www.geopackage.org/\n",
    "\n",
    "- CRS: Coordinate reference systems define how coordinates relate to real locations on the Earth. Geographic coordinate reference systems commonly use latitude and longitude degrees. Projected coordinate reference systems use x and y coordinates to represent locations on a flat surface. You will learn more about coordinate reference systems during this lesson!\n",
    "\n",
    "- Datum: defines the center point, orientation, and scale of the reference surface related to a coordinate reference system. Same coordinates can relate to different locations depending on the Datum! For example, WGS84 is a widely used global datum. ETRS89 is a datum used in Europe. Coordinate reference systems are often named based on the datum used.\n",
    "\n",
    "- EPSG: EPSG codes refer to specific reference systems. EPSG stands for “European Petroleum Survey Group” that originally published a database for spatial reference systems. For example, EPSG:3067 refers to coordinate reference system ETRS-TM35FIN which is commonly used in Finland. EPSG:4326 refers to WGS84. You can search for EPSG codes at: https://spatialreference.org/"
   ]
  },
  {
   "cell_type": "code",
   "execution_count": null,
   "metadata": {},
   "outputs": [],
   "source": []
  }
 ],
 "metadata": {
  "kernelspec": {
   "display_name": "Python 3",
   "language": "python",
   "name": "python3"
  },
  "language_info": {
   "codemirror_mode": {
    "name": "ipython",
    "version": 3
   },
   "file_extension": ".py",
   "mimetype": "text/x-python",
   "name": "python",
   "nbconvert_exporter": "python",
   "pygments_lexer": "ipython3",
   "version": "3.6.11"
  }
 },
 "nbformat": 4,
 "nbformat_minor": 4
}
