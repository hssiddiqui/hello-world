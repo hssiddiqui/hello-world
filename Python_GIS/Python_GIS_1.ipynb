{
 "cells": [
  {
   "cell_type": "markdown",
   "metadata": {},
   "source": [
    "# PYTHON GIS\n",
    "\n",
    "- Read / write spatial data from/to different file formats\n",
    "- Deal with different projections\n",
    "- Do different geometric operations and geocoding\n",
    "- Reclassify your data based on different criteria\n",
    "- Do spatial queries\n",
    "- Do simple spatial analyses\n",
    "- Visualize data and create (interactive) maps"
   ]
  },
  {
   "cell_type": "markdown",
   "metadata": {},
   "source": [
    "## Useful libraries\n",
    "\n",
    "### Data analysis & visualization:\n",
    "- Numpy –> Fundamental package for scientific computing with Python\n",
    "- Pandas –> High-performance, easy-to-use data structures and data analysis tools\n",
    "- Scipy –> A collection of numerical algorithms and domain-specific toolboxes, including signal processing, optimization and statistics\n",
    "- Matplotlib –> Basic plotting library for Python\n",
    "- Bokeh –> Interactive visualizations for the web (also maps)\n",
    "- Plotly –> Interactive visualizations (also maps) for the web (commercial - free for educational purposes)\n",
    "### GIS:\n",
    "- GDAL –> Fundamental package for processing vector and raster data formats (many modules below depend on this). Used for raster processing.\n",
    "- Geopandas –> Working with geospatial data in Python made easier, combines the capabilities of pandas and shapely.\n",
    "- Shapely –> Python package for manipulation and analysis of planar geometric objects (based on widely deployed GEOS).\n",
    "- Fiona –> Reading and writing spatial data (alternative for geopandas).\n",
    "- Pyproj –> Performs cartographic transformations and geodetic computations (based on PROJ.4).\n",
    "- Pysal –> Library of spatial analysis functions written in Python.\n",
    "- Geopy –> Geocoding library: coordinates to address <-> address to coordinates.\n",
    "- Contextily –> Add background basemaps for your (static) map visualizations\n",
    "- GeoViews –> Interactive Maps for the web.\n",
    "- Geoplot –> High-level geospatial data visualization library for Python.\n",
    "- Dash –> Dash is a Python framework for building analytical web applications.\n",
    "- OSMnx –> Python for street networks. Retrieve, construct, analyze, and visualize street networks from OpenStreetMap\n",
    "- Networkx –> Network analysis and routing in Python (e.g. Dijkstra and A* -algorithms), see this post.\n",
    "- Cartopy –> Make drawing maps for data analysis and visualisation as easy as possible.\n",
    "- Scipy.spatial –> Spatial algorithms and data structures.\n",
    "- Rtree –> Spatial indexing for Python for quick spatial lookups.\n",
    "- Rasterio –> Clean and fast and geospatial raster I/O for Python.\n",
    "- RSGISLib –> Remote Sensing and GIS Software Library for Python."
   ]
  },
  {
   "cell_type": "code",
   "execution_count": null,
   "metadata": {},
   "outputs": [],
   "source": []
  },
  {
   "cell_type": "markdown",
   "metadata": {},
   "source": [
    "## Shapely and Geometric Objects\n",
    "\n",
    "- Overview of Geometric Objects and Shapely -module\n",
    "- Point -object\n",
    "- LineString -object\n",
    "- Polygon -object\n",
    "- Geometry collections"
   ]
  },
  {
   "cell_type": "code",
   "execution_count": null,
   "metadata": {},
   "outputs": [],
   "source": []
  }
 ],
 "metadata": {
  "kernelspec": {
   "display_name": "Python 3",
   "language": "python",
   "name": "python3"
  },
  "language_info": {
   "codemirror_mode": {
    "name": "ipython",
    "version": 3
   },
   "file_extension": ".py",
   "mimetype": "text/x-python",
   "name": "python",
   "nbconvert_exporter": "python",
   "pygments_lexer": "ipython3",
   "version": "3.6.11"
  }
 },
 "nbformat": 4,
 "nbformat_minor": 4
}
